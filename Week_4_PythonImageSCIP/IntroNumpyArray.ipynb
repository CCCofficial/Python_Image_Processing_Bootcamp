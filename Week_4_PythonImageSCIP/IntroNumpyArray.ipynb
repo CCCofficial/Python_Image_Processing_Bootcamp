{
  "nbformat": 4,
  "nbformat_minor": 0,
  "metadata": {
    "colab": {
      "name": "IntroNumpyArray.ipynb",
      "provenance": [],
      "collapsed_sections": [
        "NC2Bvp-RPfn6",
        "h9kH_jXbPxeJ",
        "XJvD7W_cP40K",
        "SL1-xb1sQBB8",
        "Kabnwl51PgJz",
        "JwnU33IuRPL4",
        "Emu92nJLRWEA",
        "YKqUg0GcR-aT",
        "IiQMKEq5SDx7",
        "DVuu4zr7SJY5"
      ],
      "toc_visible": true
    },
    "kernelspec": {
      "name": "python3",
      "display_name": "Python 3"
    },
    "language_info": {
      "name": "python"
    }
  },
  "cells": [
    {
      "cell_type": "markdown",
      "source": [
        "**Creating and Manipulating Numpy Arrays**\n",
        "\n",
        "Based on tutorial https://www.w3schools.com/python/numpy/default.asp"
      ],
      "metadata": {
        "id": "UdRQ8eh9iqlI"
      }
    },
    {
      "cell_type": "markdown",
      "source": [
        "# Array Dimensions"
      ],
      "metadata": {
        "id": "NC2Bvp-RPfn6"
      }
    },
    {
      "cell_type": "code",
      "execution_count": null,
      "metadata": {
        "id": "ihV4u7Fpik59"
      },
      "outputs": [],
      "source": [
        "import numpy as np\n",
        "\n",
        "# 1 D array\n",
        "arr = np.array([1, 2, 3, 4, 5])\n",
        "print('Creating 1 D array. Shape:',arr.shape) # shape that returns a tuple with each index having the number of corresponding elements.\n",
        "print(arr)\n",
        "\n",
        "# 2 D array\n",
        "arr = np.array([[1, 2, 3], [4, 5, 6]])\n",
        "print('\\nCreating 2 D array')\n",
        "print(arr)\n",
        "(number_of_rows,number_of_columns)=arr.shape # let's put the shape into variables\n",
        "print('rows=',number_of_rows,'col=',number_of_columns)\n",
        "\n",
        "# 3D array\n",
        "arr = np.array([[[1, 2, 3], [4, 5, 6]], [[1, 2, 3], [4, 5, 6]]])\n",
        "print('\\nCreating 3 D array. Shape:',arr.shape)\n",
        "print(arr) "
      ]
    },
    {
      "cell_type": "markdown",
      "source": [
        "# Slicing Arrays"
      ],
      "metadata": {
        "id": "h9kH_jXbPxeJ"
      }
    },
    {
      "cell_type": "markdown",
      "source": [
        "Slicing in python means taking elements from one given index to another given index.\n",
        "\n",
        "We pass slice instead of index like this: [start:end].\n",
        "\n",
        "We can also define the step, like this: [start:end:step].\n",
        "\n",
        "If we don't pass start its considered 0\n",
        "\n",
        "If we don't pass end its considered length of array in that dimension\n",
        "\n",
        "If we don't pass step its considered 1"
      ],
      "metadata": {
        "id": "RXZyRzXVkiY-"
      }
    },
    {
      "cell_type": "code",
      "source": [
        "# Slicing 1D arrays\n",
        "arr = np.array([1, 2, 3, 4, 5, 6, 7])\n",
        "print(arr[1:5])  # The result includes the start index, but excludes the end index.\n",
        "print(arr[4:])   # Slice elements from index 4 to the end of the array\n",
        "print(arr[-3:-1]) # Slice from the index 3 from the end to index 1 from the end\n",
        "\n",
        "# Stepping 1D arrays\n",
        "print(arr[1:5:2])  # Step: Return every other element from index 1 to index 5\n",
        "print(arr[::2])   # Step: Return every other element from the entire array\n",
        "\n",
        "# Slicing 2-D Arrays\n",
        "arr = np.array([[1, 2, 3, 4, 5], [6, 7, 8, 9, 10]])\n",
        "print(arr[1, 1:4])  #From the second element, slice elements from index 1 to index 4 (not included):\n",
        "print(arr[0:2, 2]) #From both elements, return index 2\n",
        "print(arr[0:2, 1:4]) # From both elements, slice index 1 to index 4 (not included), this will return a 2-D array:\n"
      ],
      "metadata": {
        "id": "saLbs4v-i1_A"
      },
      "execution_count": null,
      "outputs": []
    },
    {
      "cell_type": "markdown",
      "source": [
        "# Python Data Types"
      ],
      "metadata": {
        "id": "XJvD7W_cP40K"
      }
    },
    {
      "cell_type": "markdown",
      "source": [
        "Python Data Types\n",
        "* strings - used to represent text data, given between quote marks e.g. \"ABCD\"\n",
        "* integer - used to represent integer numbers. e.g. -1, -2, -3\n",
        "* float - used to represent real numbers. e.g. 1.2, 42.42\n",
        "* boolean - used to represent True or False.\n",
        "* complex - used to represent complex numbers. e.g. 1.0 + 2.0j, 1.5 + 2.5j\n",
        "\n",
        "NumPy has some extra data types, and refer to data types with one character, like i for integers, u for unsigned integers\n",
        "* i - integer\n",
        "* b - booleanu - unsigned integer\n",
        "* f - float\n",
        "* S - string\n",
        "* U - unicode string (an international encoding standard for use with different languages and scripts)"
      ],
      "metadata": {
        "id": "JCFD-SPFlKp2"
      }
    },
    {
      "cell_type": "code",
      "source": [
        "arr = np.array([1, 2, 3, 4])\n",
        "print('array type:',arr.dtype) # Get the data type of an array object\n",
        "print()\n",
        "\n",
        "arr = np.array(['apple', 'banana', 'cherry']) # create 1D array strings\n",
        "print('1D array of strings:',arr)\n",
        "print('array type:', arr.dtype) \n",
        "print()\n",
        "\n",
        "\n",
        "arr = np.array([1, 2, 3, 4], dtype='S')     # force a data type to be strings (otherwise interger by default)\n",
        "print('array:',arr,'type:',arr.dtype)\n",
        "print(arr.dtype) \n",
        "print()\n",
        "\n",
        "#Converting Data Type on Existing Arrays\n",
        "# The best way to change the data type of an existing array, is to make a copy of the array with the astype() method.\n",
        "arr = np.array([1.1, 2.1, 3.1])\n",
        "print('original array:',arr,'type:',arr.dtype)\n",
        "newarr = arr.astype('i')\n",
        "print('new array:',newarr,'type:',newarr.dtype)\n",
        "print()\n",
        "\n",
        "# Change data type from integer to boolean\n",
        "arr = np.array([1, 0, 3])\n",
        "print('original array:',arr,'type:',arr.dtype)\n",
        "newarr = arr.astype(bool)\n",
        "print('new array:',newarr,'type:',newarr.dtype)\n"
      ],
      "metadata": {
        "id": "Zvn_cbZim1bi"
      },
      "execution_count": null,
      "outputs": []
    },
    {
      "cell_type": "markdown",
      "source": [
        "# Copying Array"
      ],
      "metadata": {
        "id": "SL1-xb1sQBB8"
      }
    },
    {
      "cell_type": "markdown",
      "source": [
        "**The Difference Between Copy and Assigning Label**\n",
        "\n",
        "The main difference between creating a copy of an array and defining a new label for the array is that the copy is a new array, and assigning a new lable is just a new name for the original array.\n",
        "\n",
        "The copy owns the data and any changes made to the copy will not affect original array, and any changes made to the original array will not affect the copy.\n",
        "\n",
        "Changing the new labled array will affect the original array, and any changes made to the original array will affect the new labled array."
      ],
      "metadata": {
        "id": "xT1IEMIIoJR_"
      }
    },
    {
      "cell_type": "markdown",
      "source": [
        ""
      ],
      "metadata": {
        "id": "gKQx1rL-prlY"
      }
    },
    {
      "cell_type": "code",
      "source": [
        "#Just making a variable equal to an array, just gives it another name.\n",
        "# Changes done to the new variable changes the original array!\n",
        "arr = np.array([1, 2, 3, 4, 5])\n",
        "x=arr\n",
        "x[0] = 42\n",
        "print('arr',arr)\n",
        "print('x',x) \n",
        "\n",
        "#The copy SHOULD NOT be affected by the changes made to the original array.\n",
        "arr = np.array([1, 2, 3, 4, 5])\n",
        "x = arr.copy()\n",
        "arr[0] = 42\n",
        "print('arr',arr)\n",
        "print('x',x) \n"
      ],
      "metadata": {
        "id": "4dFTA21KoQwi"
      },
      "execution_count": null,
      "outputs": []
    },
    {
      "cell_type": "markdown",
      "source": [
        "# Reshaping Array"
      ],
      "metadata": {
        "id": "Kabnwl51PgJz"
      }
    },
    {
      "cell_type": "markdown",
      "source": [
        "Reshaping means changing the shape of an array.\n",
        "\n",
        "The shape of an array is the number of elements in each dimension.\n",
        "\n",
        "By reshaping we can add or remove dimensions or change number of elements in each dimension.\n",
        "\n"
      ],
      "metadata": {
        "id": "9540jpWkpzDB"
      }
    },
    {
      "cell_type": "code",
      "source": [
        "#Convert the following 1-D array with 12 elements into a 2-D array.\n",
        "#The outermost dimension will have 4 arrays, each with 3 elements:\n",
        "\n",
        "arr = np.array([1, 2, 3, 4, 5, 6, 7, 8, 9, 10, 11, 12])\n",
        "newarr = arr.reshape(4, 3)\n",
        "print(newarr) "
      ],
      "metadata": {
        "id": "msC5e-6pp26p"
      },
      "execution_count": null,
      "outputs": []
    },
    {
      "cell_type": "markdown",
      "source": [
        "The elements required for reshaping must be  equal in both shapes!"
      ],
      "metadata": {
        "id": "Izfgr58eqNsh"
      }
    },
    {
      "cell_type": "code",
      "source": [
        "arr = np.array([1, 2, 3, 4, 5, 6, 7, 8]) # 8 elements\n",
        "newarr = arr.reshape(3, 3)  # this would require 9 elements\n",
        "print(newarr) "
      ],
      "metadata": {
        "id": "8wFeo6MwqTgS"
      },
      "execution_count": null,
      "outputs": []
    },
    {
      "cell_type": "markdown",
      "source": [
        "Flattening array means converting a multidimensional array into a 1D array.\n",
        "\n",
        "We can use reshape(-1) to do this."
      ],
      "metadata": {
        "id": "UGQx7jQyqj0q"
      }
    },
    {
      "cell_type": "code",
      "source": [
        "arr = np.array([[1, 2, 3], [4, 5, 6]])\n",
        "newarr = arr.reshape(-1)\n",
        "print(newarr) "
      ],
      "metadata": {
        "id": "p32JD9nHqp9C"
      },
      "execution_count": null,
      "outputs": []
    },
    {
      "cell_type": "markdown",
      "source": [
        "# Iterating Arrays"
      ],
      "metadata": {
        "id": "JwnU33IuRPL4"
      }
    },
    {
      "cell_type": "markdown",
      "source": [
        "Iterating means going through elements one by one.\n",
        "\n",
        "As we deal with multi-dimensional arrays in numpy, we can do this using basic for loop of python.\n"
      ],
      "metadata": {
        "id": "u1viIEeDqybx"
      }
    },
    {
      "cell_type": "code",
      "source": [
        "#If we iterate on a 1-D array it will go through each element one by one.\n",
        "arr = np.array([1, 2, 3])\n",
        "for x in arr:\n",
        "  print(x) "
      ],
      "metadata": {
        "id": "GPJdQJ2fq04K"
      },
      "execution_count": null,
      "outputs": []
    },
    {
      "cell_type": "code",
      "source": [
        "#Iterate on the elements of the following 2-D array:\n",
        "\n",
        "arr = np.array([[1, 2, 3], [4, 5, 6]])\n",
        "\n",
        "for x in arr:\n",
        "  print(x) "
      ],
      "metadata": {
        "id": "IGKd4F45rD5y"
      },
      "execution_count": null,
      "outputs": []
    },
    {
      "cell_type": "code",
      "source": [
        "arr = np.array([[1, 2, 3], [4, 5, 6]])\n",
        "\n",
        "# here we have a nested loop (a loop in a loop), to print out each scalar element of the 2-D array\n",
        "for x in arr:\n",
        "  print('outer loop')\n",
        "  for y in x:\n",
        "    print('inner loop')\n",
        "    print(y) "
      ],
      "metadata": {
        "id": "S6HvxGemrK9R"
      },
      "execution_count": null,
      "outputs": []
    },
    {
      "cell_type": "code",
      "source": [
        "# Iterating 3-D Arrays\n",
        "\n",
        "print('In a 3-D array it will go through all the 2-D arrays')\n",
        "arr = np.array([[[1, 2, 3], [4, 5, 6]], [[7, 8, 9], [10, 11, 12]]])\n",
        "for x in arr:\n",
        "  print(x) \n",
        "\n",
        "print('\\nIterate down to the scalars')\n",
        "for x in arr:\n",
        "  for y in x:\n",
        "    for z in y:\n",
        "      print(z) \n",
        "\n",
        "# a short cut to iterate down to the scaler is to use the function nditer()\n",
        "print('\\nUsing nditer()')\n",
        "for x in np.nditer(arr):\n",
        "  print(x) "
      ],
      "metadata": {
        "id": "u-M-1W17ricy"
      },
      "execution_count": null,
      "outputs": []
    },
    {
      "cell_type": "markdown",
      "source": [
        "# Joining and Splitting Arrays"
      ],
      "metadata": {
        "id": "Emu92nJLRWEA"
      }
    },
    {
      "cell_type": "markdown",
      "source": [
        "**Joining Arrays**\n",
        "\n",
        "Joining means putting contents of two or more arrays in a single array.\n",
        "\n",
        "In NumPy we join arrays by axes. Axis=0 means by rows (default if not specified). Axis=1 means by columns.\n",
        "\n",
        "We pass a sequence of arrays that we want to join to the concatenate() function, along with the axis. If axis is not explicitly passed, it is taken as 0 (by rows)."
      ],
      "metadata": {
        "id": "w16OytNLseny"
      }
    },
    {
      "cell_type": "code",
      "source": [
        "print('Join two 1-D arrays using concatenate') \n",
        "arr1 = np.array([1, 2, 3])\n",
        "arr2 = np.array([4, 5, 6])\n",
        "c = np.concatenate((arr1, arr2))\n",
        "print('arr1:',arr1) \n",
        "print('arr2:',arr2)\n",
        "print('concatenate:',c)\n",
        "print('dimensions:',c.ndim,'shape:',c.shape) # we can use the .ndim to get the dimensions of the array"
      ],
      "metadata": {
        "id": "dfYZK-vxsrAC"
      },
      "execution_count": null,
      "outputs": []
    },
    {
      "cell_type": "code",
      "source": [
        "# Vertical stacking is the same as concatenation. \n",
        "# Vertical stacking adds rows, so they must have the same number of columns\n",
        "arr1 = np.array([1, 2, 3])\n",
        "arr2 = np.array([4, 5, 6])\n",
        "print('arr1:',arr1,'shape:',arr1.shape)\n",
        "print('arr2:',arr2,'shape:',arr2.shape)\n",
        "\n",
        "print('\\nStack along columns using vstack()')\n",
        "arr = np.vstack((arr1, arr2))\n",
        "print(arr) \n",
        "print('dimensions:', arr.ndim,'shape:',arr.shape)\n",
        "\n",
        "# Horizonal stacking adds columns, so they must have the same number of rows\n",
        "arr1 = np.array([[1, 2, 3],[4, 5, 6]])\n",
        "arr2 = np.array([[7],[8]])\n",
        "print('\\nStack along rows with hstack()')\n",
        "arr = np.hstack((arr1, arr2))\n",
        "print(arr) \n",
        "print('dimensions:', arr.ndim,'shape:',arr.shape)\n",
        "\n",
        "\n",
        "\n"
      ],
      "metadata": {
        "id": "gT6Xv78pWwNt"
      },
      "execution_count": null,
      "outputs": []
    },
    {
      "cell_type": "markdown",
      "source": [
        "**Splitting NumPy Arrays**\n",
        "\n",
        "Splitting is reverse operation of Joining.\n",
        "\n",
        "Joining merges multiple arrays into one and Splitting breaks one array into multiple.\n",
        "\n",
        "We use array_split() for splitting arrays, we pass it the array we want to split and the number of splits.\n",
        "\n",
        "If the array has less elements than required, it will adjust from the end accordingly."
      ],
      "metadata": {
        "id": "cBT9NczAvC_9"
      }
    },
    {
      "cell_type": "code",
      "source": [
        "arr = np.array([1, 2, 3, 4, 5, 6])\n",
        "newarr = np.array_split(arr, 3)\n",
        "print('split array into a list of 3 arrays',newarr)  \n",
        "\n",
        "# If you split an array into 3 arrays, you can access them from the result just like any array element\n",
        "print(newarr[0])\n",
        "print(newarr[1])\n",
        "print(newarr[2]) \n",
        "\n",
        "# If the array has less elements than required, it will adjust from the end accordingly\n",
        "newarr = np.array_split(arr, 4)\n",
        "print('\\nsplit array into a list of 4 arrays',newarr)  \n",
        "print(newarr[0])\n",
        "print(newarr[1])\n",
        "print(newarr[2]) \n",
        "print(newarr[3]) "
      ],
      "metadata": {
        "id": "9XR6v_kuvGy6"
      },
      "execution_count": null,
      "outputs": []
    },
    {
      "cell_type": "markdown",
      "source": [
        "# Searching Arrays"
      ],
      "metadata": {
        "id": "YKqUg0GcR-aT"
      }
    },
    {
      "cell_type": "markdown",
      "source": [
        "You can search an array for a certain value, and return the indexes that get a match. The indexes are returned as a tuple. Tuples are used to store multiple items in a single variable. In this case, the tuple has one item, which is an array of the indexes. If you want to get the array, you must select the first element of the tuple.\n",
        "\n",
        "To search an array, use the where() method."
      ],
      "metadata": {
        "id": "7S3lwsVLyHeb"
      }
    },
    {
      "cell_type": "code",
      "source": [
        "arr = np.array([1, 2, 3, 4, 5, 4, 4])\n",
        "\n",
        "#Let us find how many values are equal to 4\n",
        "x = np.where(arr == 4)\n",
        "print('Here are the locations (indexes) where x=4,represented as a tuple containing one array of indexes:',x) \n",
        "print('\\nTo get to the array, we must select (index) the first value of the tuple:',x[0])\n",
        "print('\\nWe can find how many occurances of 4 by finding the length of the array of indexes:',len(x[0]))  \n",
        "\n",
        "#Now find how many values are greater than 3\n",
        "x = np.where(arr>3)\n",
        "print('\\nHere is the tuple containing the array of indexes where the elements are greater than 3:',x)  \n",
        "print('\\nIf we want to get the array, we must get the first element of the tuple:',x[0])\n",
        "print('\\nNow that we know how to get the array of indexes, we can get the length to tell us how many values are greater than 3:',len(x[0]))  \n"
      ],
      "metadata": {
        "id": "9zjBeyqnyJHV"
      },
      "execution_count": null,
      "outputs": []
    },
    {
      "cell_type": "markdown",
      "source": [
        "# Sorting Arrays"
      ],
      "metadata": {
        "id": "IiQMKEq5SDx7"
      }
    },
    {
      "cell_type": "markdown",
      "source": [
        "Sorting means putting elements in an ordered sequence.\n",
        "\n",
        "Ordered sequence is any sequence that has an order corresponding to elements, like numeric or alphabetical, ascending or descending.\n",
        "\n",
        "The NumPy ndarray object has a function called sort(), that will sort a specified array. This method returns a copy of the array, leaving the original array unchanged."
      ],
      "metadata": {
        "id": "ZOzyZwEy5W4V"
      }
    },
    {
      "cell_type": "code",
      "source": [
        "arr = np.array([3, 2, 0, 1])\n",
        "print('Original array:',arr)\n",
        "\n",
        "sortArray=np.sort(arr)\n",
        "print('Original array unchanged:',arr)\n",
        "print('Sorted array:',sortArray)\n",
        "\n",
        "print('\\nWe can sort string arrays alphabetically:')\n",
        "arr = np.array(['banana', 'cherry', 'apple'])\n",
        "print(np.sort(arr)) \n",
        "\n",
        "print('\\nWe can sort boolean (True or False) arrays:')\n",
        "arr = np.array([True, False, True])\n",
        "print(np.sort(arr)) \n",
        "\n",
        "print('\\nWe can sort the elements inside 2D arrays:')\n",
        "arr = np.array([[3, 2, 4], [5, 0, 1]])\n",
        "print('\\nOriginal 2D array:')\n",
        "print(arr) \n",
        "print('\\nStorted 2D array:')\n",
        "print(np.sort(arr)) "
      ],
      "metadata": {
        "id": "raCScdYU2Ny9"
      },
      "execution_count": null,
      "outputs": []
    },
    {
      "cell_type": "markdown",
      "source": [
        "# Appending Arrays"
      ],
      "metadata": {
        "id": "DVuu4zr7SJY5"
      }
    },
    {
      "cell_type": "markdown",
      "source": [
        "Appending is a means to add one array to another. The append operation creates a new array. \n",
        "\n",
        "Appending arrays to a one-dimensional array means adding values at the end of an input array. \n",
        "\n",
        "For a two-dimensionsal array, you can either add a row below the input array (axis=0) or add a column to the input array (axis=1). As you will see when adding two-dimensional arrays, the dimenions you are combining must be the same size. If you are adding a row, they must have the same number of columns. If you are adding a column, they must have the same number of rows.\n",
        "\n",
        "\n"
      ],
      "metadata": {
        "id": "Lnm8_CCyABk_"
      }
    },
    {
      "cell_type": "code",
      "source": [
        "# From: https://www.tutorialspoint.com/numpy/numpy_append.htm\n",
        "\n",
        "a = np.array([[1,2,3],[4,5,6]]) \n",
        "\n",
        "print ('First array:') \n",
        "print (a)  \n",
        "\n",
        "print ('\\nSecond array:') \n",
        "b=np.array([7,8,9])\n",
        "print(b) \n",
        "\n",
        "c=np.append(a,b)\n",
        "print('\\nAppend a to b to create new array (notice the result is a flat (1D) array!):')\n",
        "print(c)"
      ],
      "metadata": {
        "id": "AA0u-YeTAMLv"
      },
      "execution_count": null,
      "outputs": []
    },
    {
      "cell_type": "code",
      "source": [
        "print('\\nTo maintain 2D array, we must append a 2D array with another 2D array')\n",
        "b=np.array([[7,8,9]]) # notice the pairs of two brackets, this makes it a 2D array\n",
        "print('a=',a)\n",
        "print('b=',b)\n",
        "\n",
        "print('\\nFirst, lets look at the shape of each array')\n",
        "print('a.shape=',a.shape)\n",
        "print('b.shape',b.shape)\n",
        "print(\"\\nNotice they have the same number of columns (3), so we can append by rows (axis=0)\")\n",
        "c=np.append(a,b,axis=0)  \n",
        "print(c)"
      ],
      "metadata": {
        "id": "li-lQe6EIygR"
      },
      "execution_count": null,
      "outputs": []
    },
    {
      "cell_type": "code",
      "source": [
        "# To append columns (axis=1) they must have the same number of rows\n",
        "a = np.array([[1,2,3],[5,6,7]]) \n",
        "b=np.array([[4],[8]])\n",
        "print('a',a)\n",
        "print('b',b)\n",
        "print('a.shape =',a.shape)\n",
        "print('b.shape =',b.shape)\n",
        "print(\"\\nNotice they have the same number of rows, so we can append by columns (axis=1)\")\n",
        "c=np.append(a,b,axis=1)  \n",
        "print('\\nAppend by column (axis=1):')\n",
        "print(c)\n",
        "\n"
      ],
      "metadata": {
        "id": "CWh79Dv6OcwT"
      },
      "execution_count": null,
      "outputs": []
    }
  ]
}